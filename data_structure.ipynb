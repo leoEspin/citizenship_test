{
 "cells": [
  {
   "cell_type": "code",
   "execution_count": 75,
   "id": "6ecca43b-f0d9-4eb7-a79b-b10bd3765fa9",
   "metadata": {},
   "outputs": [],
   "source": [
    "with open('question_bank.txt') as raw:\n",
    "    sample = raw.readlines()"
   ]
  },
  {
   "cell_type": "code",
   "execution_count": 3,
   "id": "52e3995a-c6b4-4832-aaeb-1a48198f5866",
   "metadata": {},
   "outputs": [
    {
     "data": {
      "text/plain": [
       "['1.\\t\\t What is the supreme law of the land?\\n',\n",
       " '\\t\\t ▪ the Constitution\\n',\n",
       " '2.\\t\\t What does the Constitution do?\\n',\n",
       " '\\t\\t\\n',\n",
       " '▪ sets up the government\\n']"
      ]
     },
     "execution_count": 3,
     "metadata": {},
     "output_type": "execute_result"
    }
   ],
   "source": [
    "sample[0:5]"
   ]
  },
  {
   "cell_type": "code",
   "execution_count": 88,
   "id": "7d395598-a8f5-49b3-85e7-3569e5251794",
   "metadata": {},
   "outputs": [],
   "source": [
    "# remove tabs from all lines\n",
    "sample = [line.replace('\\t', '').strip() for line in sample]"
   ]
  },
  {
   "cell_type": "code",
   "execution_count": 89,
   "id": "243625b6-ad90-40d4-b9ea-37f76de111a7",
   "metadata": {},
   "outputs": [
    {
     "data": {
      "text/plain": [
       "['1. What is the supreme law of the land?',\n",
       " '▪ the Constitution',\n",
       " '2. What does the Constitution do?',\n",
       " '',\n",
       " '▪ sets up the government',\n",
       " '',\n",
       " '▪ defines the government',\n",
       " '',\n",
       " '▪ protects basic rights of Americans',\n",
       " '3.',\n",
       " 'The idea of self-government is in the first three words of the Constitution.  What are these words?',\n",
       " '▪ We the People',\n",
       " '4. What is an amendment?',\n",
       " '▪ a change (to the Constitution)',\n",
       " '▪ an addition (to the Constitution)']"
      ]
     },
     "execution_count": 89,
     "metadata": {},
     "output_type": "execute_result"
    }
   ],
   "source": [
    "sample[0:15]"
   ]
  },
  {
   "cell_type": "code",
   "execution_count": 1,
   "id": "7226cb47-91b1-4cf6-8ef6-61fdce6afee5",
   "metadata": {},
   "outputs": [],
   "source": [
    "# what's a good way to store the questions and multiple answers:\n",
    "from lxml import etree"
   ]
  },
  {
   "cell_type": "code",
   "execution_count": 10,
   "id": "0da89adc-2620-4ba6-8333-c8dfd0b03eb6",
   "metadata": {},
   "outputs": [],
   "source": [
    "root = etree.Element(\"root\")\n",
    "q1 = etree.SubElement(root, \"q1\")\n",
    "q1.text = sample[0].strip()"
   ]
  },
  {
   "cell_type": "code",
   "execution_count": 11,
   "id": "de25dd93-03d4-474f-9441-597d5828c6af",
   "metadata": {},
   "outputs": [
    {
     "name": "stdout",
     "output_type": "stream",
     "text": [
      "b'<root>\\n  <q1>1. What is the supreme law of the land?</q1>\\n</root>\\n'\n"
     ]
    }
   ],
   "source": [
    "print(etree.tostring(root, pretty_print=True))"
   ]
  },
  {
   "cell_type": "code",
   "execution_count": 12,
   "id": "f15c9185-2df7-4388-8774-7cc2f47ca790",
   "metadata": {},
   "outputs": [],
   "source": [
    "# I think json is better\n",
    "import json"
   ]
  },
  {
   "cell_type": "code",
   "execution_count": 16,
   "id": "c8b8d391-cb94-4f49-96f7-40abbe6909a9",
   "metadata": {},
   "outputs": [
    {
     "data": {
      "text/plain": [
       "{'question': '1. What is the supreme law of the land?',\n",
       " 'answers': ['the Constitution']}"
      ]
     },
     "execution_count": 16,
     "metadata": {},
     "output_type": "execute_result"
    }
   ],
   "source": [
    "q1 = {\"question\": sample[0].strip(), \"answers\": [sample[1].strip().replace('▪ ', '')]}\n",
    "q1"
   ]
  },
  {
   "cell_type": "code",
   "execution_count": null,
   "id": "4e8fefc0-b6c5-4766-8ddd-9bf706213d01",
   "metadata": {},
   "outputs": [],
   "source": []
  }
 ],
 "metadata": {
  "kernelspec": {
   "display_name": "banshee",
   "language": "python",
   "name": "banshee"
  },
  "language_info": {
   "codemirror_mode": {
    "name": "ipython",
    "version": 3
   },
   "file_extension": ".py",
   "mimetype": "text/x-python",
   "name": "python",
   "nbconvert_exporter": "python",
   "pygments_lexer": "ipython3",
   "version": "3.9.1"
  }
 },
 "nbformat": 4,
 "nbformat_minor": 5
}
