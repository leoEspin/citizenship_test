{
 "cells": [
  {
   "cell_type": "code",
   "execution_count": 1,
   "id": "7b946ee2-379e-46de-a583-644772153fd0",
   "metadata": {},
   "outputs": [],
   "source": [
    "import numpy as np\n",
    "import json\n",
    "import time"
   ]
  },
  {
   "cell_type": "code",
   "execution_count": 22,
   "id": "8cc7b29d-9a77-412e-97ca-5fc81c17dcc4",
   "metadata": {},
   "outputs": [
    {
     "ename": "AssertionError",
     "evalue": "There's missing questions",
     "output_type": "error",
     "traceback": [
      "\u001b[0;31m---------------------------------------------------------------------------\u001b[0m",
      "\u001b[0;31mAssertionError\u001b[0m                            Traceback (most recent call last)",
      "\u001b[0;32m<ipython-input-22-6a41c94af1b1>\u001b[0m in \u001b[0;36m<module>\u001b[0;34m\u001b[0m\n\u001b[1;32m      1\u001b[0m \u001b[0;32mwith\u001b[0m \u001b[0mopen\u001b[0m\u001b[0;34m(\u001b[0m\u001b[0;34m'question_bank.json'\u001b[0m\u001b[0;34m,\u001b[0m \u001b[0;34m'r'\u001b[0m\u001b[0;34m)\u001b[0m \u001b[0;32mas\u001b[0m \u001b[0mq\u001b[0m\u001b[0;34m:\u001b[0m\u001b[0;34m\u001b[0m\u001b[0;34m\u001b[0m\u001b[0m\n\u001b[1;32m      2\u001b[0m     \u001b[0mqbank\u001b[0m \u001b[0;34m=\u001b[0m \u001b[0mjson\u001b[0m\u001b[0;34m.\u001b[0m\u001b[0mload\u001b[0m\u001b[0;34m(\u001b[0m\u001b[0mq\u001b[0m\u001b[0;34m)\u001b[0m\u001b[0;34m\u001b[0m\u001b[0;34m\u001b[0m\u001b[0m\n\u001b[0;32m----> 3\u001b[0;31m \u001b[0;32massert\u001b[0m \u001b[0mlen\u001b[0m\u001b[0;34m(\u001b[0m\u001b[0mqbank\u001b[0m\u001b[0;34m[\u001b[0m\u001b[0;34m'Questions'\u001b[0m\u001b[0;34m]\u001b[0m\u001b[0;34m)\u001b[0m \u001b[0;34m==\u001b[0m \u001b[0;36m100\u001b[0m\u001b[0;34m,\u001b[0m \u001b[0;34m'There\\'s missing questions'\u001b[0m\u001b[0;34m\u001b[0m\u001b[0;34m\u001b[0m\u001b[0m\n\u001b[0m",
      "\u001b[0;31mAssertionError\u001b[0m: There's missing questions"
     ]
    }
   ],
   "source": [
    "with open('question_bank.json', 'r') as q:\n",
    "    qbank = json.load(q)\n",
    "assert len(qbank['Questions']) == 100, 'There\\'s missing questions'"
   ]
  },
  {
   "cell_type": "code",
   "execution_count": 7,
   "id": "340a0bc7-d1c9-4552-8a44-008efc65823f",
   "metadata": {},
   "outputs": [],
   "source": [
    "qlist = qbank['Questions']"
   ]
  },
  {
   "cell_type": "code",
   "execution_count": 18,
   "id": "b384a045-c5d1-430f-a52c-fc87ada0cefc",
   "metadata": {},
   "outputs": [],
   "source": [
    "def start_attempt():\n",
    "    start = time.time()\n",
    "    attempt = np.random.randint(0, high=len(qlist), size=10)\n",
    "    for x in attempt:\n",
    "        print(qlist[x]['question'])\n",
    "        if input('Answer(s):') in qlist[x]['answers']:\n",
    "            print('correct')\n",
    "        else:\n",
    "            print('incorrect. The valid answer(s) are')\n",
    "            for t in qlist[x]['answers']:\n",
    "                print(t)\n",
    "    return time.time() - start"
   ]
  },
  {
   "cell_type": "code",
   "execution_count": 19,
   "id": "9e82831e-7bce-4859-85ef-7b51ccecc5e4",
   "metadata": {},
   "outputs": [
    {
     "name": "stdout",
     "output_type": "stream",
     "text": [
      "What is the name of the President of the United States now?*\n"
     ]
    },
    {
     "name": "stdin",
     "output_type": "stream",
     "text": [
      "Answer(s): Joe Biden\n"
     ]
    },
    {
     "name": "stdout",
     "output_type": "stream",
     "text": [
      "incorrect. The valid answer(s) are\n",
      "Visit uscis.gov/citizenship/testupdates for the name of the President of the United States.\n",
      "What is one reason colonists came to America?\n"
     ]
    },
    {
     "name": "stdin",
     "output_type": "stream",
     "text": [
      "Answer(s): religious freedom\n"
     ]
    },
    {
     "name": "stdout",
     "output_type": "stream",
     "text": [
      "correct\n",
      "Name one state that borders Mexico.\n"
     ]
    },
    {
     "name": "stdin",
     "output_type": "stream",
     "text": [
      "Answer(s): Texas\n"
     ]
    },
    {
     "name": "stdout",
     "output_type": "stream",
     "text": [
      "correct\n",
      "What did the Emancipation Proclamation do?\n"
     ]
    },
    {
     "name": "stdin",
     "output_type": "stream",
     "text": [
      "Answer(s): freed the slaves\n"
     ]
    },
    {
     "name": "stdout",
     "output_type": "stream",
     "text": [
      "correct\n",
      "What did Martin Luther King, Jr. do?*\n"
     ]
    },
    {
     "name": "stdin",
     "output_type": "stream",
     "text": [
      "Answer(s): fight for people's rights\n"
     ]
    },
    {
     "name": "stdout",
     "output_type": "stream",
     "text": [
      "incorrect. The valid answer(s) are\n",
      "fought for civil rights\n",
      "worked for equality for all Americans\n",
      "Where is the Statue of Liberty?*\n"
     ]
    },
    {
     "name": "stdin",
     "output_type": "stream",
     "text": [
      "Answer(s): Liberty Island\n"
     ]
    },
    {
     "name": "stdout",
     "output_type": "stream",
     "text": [
      "correct\n",
      "How old do citizens have to be to vote for President?*\n"
     ]
    },
    {
     "name": "stdin",
     "output_type": "stream",
     "text": [
      "Answer(s): 18\n"
     ]
    },
    {
     "name": "stdout",
     "output_type": "stream",
     "text": [
      "incorrect. The valid answer(s) are\n",
      "eighteen (18) and older\n",
      "There were 13 original states. Name three.\n"
     ]
    },
    {
     "name": "stdin",
     "output_type": "stream",
     "text": [
      "Answer(s): New York\n"
     ]
    },
    {
     "name": "stdout",
     "output_type": "stream",
     "text": [
      "correct\n",
      "The House of Representatives has how many voting members?\n"
     ]
    },
    {
     "name": "stdin",
     "output_type": "stream",
     "text": [
      "Answer(s): 435\n"
     ]
    },
    {
     "name": "stdout",
     "output_type": "stream",
     "text": [
      "incorrect. The valid answer(s) are\n",
      "four hundred thirty-five (435)\n",
      "What group of people was taken to America and sold as slaves?\n"
     ]
    },
    {
     "name": "stdin",
     "output_type": "stream",
     "text": [
      "Answer(s): Africans\n"
     ]
    },
    {
     "name": "stdout",
     "output_type": "stream",
     "text": [
      "correct\n"
     ]
    }
   ],
   "source": [
    "elapsed = start_attempt()\n",
    "print(f'Elapsed time: {elapsed/60} minutes')"
   ]
  },
  {
   "cell_type": "code",
   "execution_count": null,
   "id": "0e0fe665-120d-402e-97d6-53fcfcdadddc",
   "metadata": {},
   "outputs": [],
   "source": []
  }
 ],
 "metadata": {
  "kernelspec": {
   "display_name": "Python 3",
   "language": "python",
   "name": "python3"
  },
  "language_info": {
   "codemirror_mode": {
    "name": "ipython",
    "version": 3
   },
   "file_extension": ".py",
   "mimetype": "text/x-python",
   "name": "python",
   "nbconvert_exporter": "python",
   "pygments_lexer": "ipython3",
   "version": "3.9.1"
  }
 },
 "nbformat": 4,
 "nbformat_minor": 5
}
