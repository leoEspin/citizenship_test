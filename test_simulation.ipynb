{
 "cells": [
  {
   "cell_type": "code",
   "execution_count": 1,
   "id": "7b946ee2-379e-46de-a583-644772153fd0",
   "metadata": {},
   "outputs": [],
   "source": [
    "import numpy as np\n",
    "import json\n",
    "import time\n",
    "from cleaning import bcolors"
   ]
  },
  {
   "cell_type": "code",
   "execution_count": 24,
   "id": "8cc7b29d-9a77-412e-97ca-5fc81c17dcc4",
   "metadata": {},
   "outputs": [
    {
     "ename": "AssertionError",
     "evalue": "There's missing questions",
     "output_type": "error",
     "traceback": [
      "\u001b[0;31m---------------------------------------------------------------------------\u001b[0m",
      "\u001b[0;31mAssertionError\u001b[0m                            Traceback (most recent call last)",
      "\u001b[0;32m<ipython-input-24-e69a32997754>\u001b[0m in \u001b[0;36m<module>\u001b[0;34m\u001b[0m\n\u001b[1;32m      1\u001b[0m \u001b[0;32mwith\u001b[0m \u001b[0mopen\u001b[0m\u001b[0;34m(\u001b[0m\u001b[0;34m'question_bank.json'\u001b[0m\u001b[0;34m,\u001b[0m \u001b[0;34m'r'\u001b[0m\u001b[0;34m)\u001b[0m \u001b[0;32mas\u001b[0m \u001b[0mq\u001b[0m\u001b[0;34m:\u001b[0m\u001b[0;34m\u001b[0m\u001b[0;34m\u001b[0m\u001b[0m\n\u001b[1;32m      2\u001b[0m     \u001b[0mqbank\u001b[0m \u001b[0;34m=\u001b[0m \u001b[0mjson\u001b[0m\u001b[0;34m.\u001b[0m\u001b[0mload\u001b[0m\u001b[0;34m(\u001b[0m\u001b[0mq\u001b[0m\u001b[0;34m)\u001b[0m\u001b[0;34m\u001b[0m\u001b[0;34m\u001b[0m\u001b[0m\n\u001b[0;32m----> 3\u001b[0;31m \u001b[0;32massert\u001b[0m \u001b[0mlen\u001b[0m\u001b[0;34m(\u001b[0m\u001b[0mqbank\u001b[0m\u001b[0;34m[\u001b[0m\u001b[0;34m'Questions'\u001b[0m\u001b[0;34m]\u001b[0m\u001b[0;34m)\u001b[0m \u001b[0;34m==\u001b[0m \u001b[0;36m100\u001b[0m\u001b[0;34m,\u001b[0m \u001b[0;34m'There\\'s missing questions'\u001b[0m\u001b[0;34m\u001b[0m\u001b[0;34m\u001b[0m\u001b[0m\n\u001b[0m\u001b[1;32m      4\u001b[0m \u001b[0mqlist\u001b[0m \u001b[0;34m=\u001b[0m \u001b[0mqbank\u001b[0m\u001b[0;34m[\u001b[0m\u001b[0;34m'Questions'\u001b[0m\u001b[0;34m]\u001b[0m\u001b[0;34m\u001b[0m\u001b[0;34m\u001b[0m\u001b[0m\n",
      "\u001b[0;31mAssertionError\u001b[0m: There's missing questions"
     ]
    }
   ],
   "source": [
    "with open('question_bank.json', 'r') as q:\n",
    "    qbank = json.load(q)\n",
    "assert len(qbank['Questions']) == 100, 'There\\'s missing questions'"
   ]
  },
  {
   "cell_type": "code",
   "execution_count": 25,
   "id": "340a0bc7-d1c9-4552-8a44-008efc65823f",
   "metadata": {},
   "outputs": [],
   "source": [
    "qlist = qbank['Questions']"
   ]
  },
  {
   "cell_type": "code",
   "execution_count": 18,
   "id": "b384a045-c5d1-430f-a52c-fc87ada0cefc",
   "metadata": {},
   "outputs": [],
   "source": [
    "def start_attempt():\n",
    "    start = time.time()\n",
    "    attempt = np.random.randint(0, high=len(qlist), size=10)\n",
    "    for x in attempt:\n",
    "        print(qlist[x]['question'])\n",
    "        if input('Answer(s):') in qlist[x]['answers']:\n",
    "            print(f'{bcolors.OKGREEN}correct{bcolors.ENDC}')\n",
    "        else:\n",
    "            print(f'{bcolors.FAIL}incorrect{bcolors.ENDC}. The valid answer(s) are')\n",
    "            for t in qlist[x]['answers']:\n",
    "                print(t)\n",
    "    return time.time() - start"
   ]
  },
  {
   "cell_type": "code",
   "execution_count": 26,
   "id": "9e82831e-7bce-4859-85ef-7b51ccecc5e4",
   "metadata": {},
   "outputs": [
    {
     "name": "stdout",
     "output_type": "stream",
     "text": [
      "Who was President during the Great Depression and World War II?\n"
     ]
    },
    {
     "name": "stdin",
     "output_type": "stream",
     "text": [
      "Answer(s): Roosevelt\n"
     ]
    },
    {
     "name": "stdout",
     "output_type": "stream",
     "text": [
      "incorrect. The valid answer(s) are\n",
      "(Franklin) Roosevelt\n",
      "What is one right or freedom from the First Amendment?*\n"
     ]
    },
    {
     "name": "stdin",
     "output_type": "stream",
     "text": [
      "Answer(s): freedom of religion\n"
     ]
    },
    {
     "name": "stdout",
     "output_type": "stream",
     "text": [
      "incorrect. The valid answer(s) are\n",
      "speech\n",
      "religion\n",
      "assembly\n",
      "press\n",
      "petition the government\n",
      "Why do some states have more Representatives than other states?\n"
     ]
    },
    {
     "name": "stdin",
     "output_type": "stream",
     "text": [
      "Answer(s): population\n"
     ]
    },
    {
     "name": "stdout",
     "output_type": "stream",
     "text": [
      "incorrect. The valid answer(s) are\n",
      "(because of) the state’s population\n",
      "(because) they have more people\n",
      "(because) some states have more people\n",
      "There are four amendments to the Constitution about who can vote. Describe one of them.\n"
     ]
    },
    {
     "name": "stdin",
     "output_type": "stream",
     "text": [
      "Answer(s): people 18 or older can vote\n"
     ]
    },
    {
     "name": "stdout",
     "output_type": "stream",
     "text": [
      "incorrect. The valid answer(s) are\n",
      "Citizens eighteen (18) and older (can vote).\n",
      "You don’t have to pay (a poll tax) to vote.\n",
      "Any citizen can vote. (Women and men can vote.)\n",
      "A male citizen of any race (can vote).\n",
      "What are two Cabinet-level positions?\n"
     ]
    },
    {
     "name": "stdin",
     "output_type": "stream",
     "text": [
      "Answer(s): Secretary of State\n"
     ]
    },
    {
     "name": "stdout",
     "output_type": "stream",
     "text": [
      "correct\n",
      "What does the Constitution do?\n"
     ]
    },
    {
     "name": "stdin",
     "output_type": "stream",
     "text": [
      "Answer(s): defines the country\n"
     ]
    },
    {
     "name": "stdout",
     "output_type": "stream",
     "text": [
      "incorrect. The valid answer(s) are\n",
      "sets up the government\n",
      "defines the government\n",
      "protects basic rights of Americans\n",
      "What major event happened on September 11, 2001, in the United States?\n"
     ]
    },
    {
     "name": "stdin",
     "output_type": "stream",
     "text": [
      "Answer(s): terrorist attack\n"
     ]
    },
    {
     "name": "stdout",
     "output_type": "stream",
     "text": [
      "incorrect. The valid answer(s) are\n",
      "Terrorists attacked the United States.\n",
      "Who did the United States fight in World War II?\n"
     ]
    },
    {
     "name": "stdin",
     "output_type": "stream",
     "text": [
      "Answer(s): Japan, Germany and Italy\n"
     ]
    },
    {
     "name": "stdout",
     "output_type": "stream",
     "text": [
      "incorrect. The valid answer(s) are\n",
      "Japan, Germany, and Italy\n",
      "Name one war fought by the United States in the 1800s.\n"
     ]
    },
    {
     "name": "stdin",
     "output_type": "stream",
     "text": [
      "Answer(s): Civil War\n"
     ]
    },
    {
     "name": "stdout",
     "output_type": "stream",
     "text": [
      "correct\n",
      "The House of Representatives has how many voting members?\n"
     ]
    },
    {
     "name": "stdin",
     "output_type": "stream",
     "text": [
      "Answer(s): 435\n"
     ]
    },
    {
     "name": "stdout",
     "output_type": "stream",
     "text": [
      "incorrect. The valid answer(s) are\n",
      "four hundred thirty-five (435)\n",
      "Elapsed time: 2.619394087791443 minutes\n"
     ]
    }
   ],
   "source": [
    "elapsed = start_attempt()\n",
    "print(f'Elapsed time: {elapsed/60} minutes')"
   ]
  },
  {
   "cell_type": "code",
   "execution_count": 28,
   "id": "0e0fe665-120d-402e-97d6-53fcfcdadddc",
   "metadata": {},
   "outputs": [
    {
     "name": "stdout",
     "output_type": "stream",
     "text": [
      "\u001b[93mWarning: No active frommets remain. Continue?\u001b[0m\n"
     ]
    }
   ],
   "source": [
    "print(f\"{bcolors.WARNING}Warning: No active frommets remain. Continue?{bcolors.ENDC}\")"
   ]
  },
  {
   "cell_type": "code",
   "execution_count": null,
   "id": "0419caef-5e82-43dc-94e7-7bc3479de667",
   "metadata": {},
   "outputs": [],
   "source": []
  }
 ],
 "metadata": {
  "kernelspec": {
   "display_name": "Python 3",
   "language": "python",
   "name": "python3"
  },
  "language_info": {
   "codemirror_mode": {
    "name": "ipython",
    "version": 3
   },
   "file_extension": ".py",
   "mimetype": "text/x-python",
   "name": "python",
   "nbconvert_exporter": "python",
   "pygments_lexer": "ipython3",
   "version": "3.9.1"
  }
 },
 "nbformat": 4,
 "nbformat_minor": 5
}
