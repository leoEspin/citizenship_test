{
 "cells": [
  {
   "cell_type": "code",
   "execution_count": 1,
   "id": "7b946ee2-379e-46de-a583-644772153fd0",
   "metadata": {},
   "outputs": [],
   "source": [
    "import simulation as sim"
   ]
  },
  {
   "cell_type": "code",
   "execution_count": 10,
   "id": "9e82831e-7bce-4859-85ef-7b51ccecc5e4",
   "metadata": {},
   "outputs": [
    {
     "name": "stdout",
     "output_type": "stream",
     "text": [
      "\u001b[93mIf multiple answers are required, separate them with commas (,):\u001b[0m\n",
      "\u001b[96mHow many U.S. Senators are there?\u001b[0m\n"
     ]
    },
    {
     "name": "stdin",
     "output_type": "stream",
     "text": [
      "Answer(s): 100\n"
     ]
    },
    {
     "name": "stdout",
     "output_type": "stream",
     "text": [
      "\u001b[91mincorrect\u001b[0m. The valid answer(s) are\n",
      "one hundred (100)\n",
      "\u001b[96mWe elect a U.S. Representative for how many years?\u001b[0m\n"
     ]
    },
    {
     "name": "stdin",
     "output_type": "stream",
     "text": [
      "Answer(s): 2\n"
     ]
    },
    {
     "name": "stdout",
     "output_type": "stream",
     "text": [
      "\u001b[91mincorrect\u001b[0m. The valid answer(s) are\n",
      "two (2)\n",
      "\u001b[96mThere were 13 original states. Name three.\u001b[0m\n"
     ]
    },
    {
     "name": "stdin",
     "output_type": "stream",
     "text": [
      "Answer(s): Rhode Island, Georgia, North Carolina\n"
     ]
    },
    {
     "name": "stdout",
     "output_type": "stream",
     "text": [
      "\u001b[92mcorrect\u001b[0m\n",
      "\u001b[96mWhat is the name of the President of the United States now?*\u001b[0m\n"
     ]
    },
    {
     "name": "stdin",
     "output_type": "stream",
     "text": [
      "Answer(s): Joe Biden\n"
     ]
    },
    {
     "name": "stdout",
     "output_type": "stream",
     "text": [
      "\u001b[92mcorrect\u001b[0m\n",
      "\u001b[96mWhy does the flag have 50 stars?*\u001b[0m\n"
     ]
    },
    {
     "name": "stdin",
     "output_type": "stream",
     "text": [
      "Answer(s): because there are 50 states\n"
     ]
    },
    {
     "name": "stdout",
     "output_type": "stream",
     "text": [
      "\u001b[92mcorrect\u001b[0m\n",
      "\u001b[96mBefore he was President, Eisenhower was a general. What war was he in?\u001b[0m\n"
     ]
    },
    {
     "name": "stdin",
     "output_type": "stream",
     "text": [
      "Answer(s): World War II\n"
     ]
    },
    {
     "name": "stdout",
     "output_type": "stream",
     "text": [
      "\u001b[92mcorrect\u001b[0m\n",
      "\u001b[96mHow many justices are on the Supreme Court?\u001b[0m\n"
     ]
    },
    {
     "name": "stdin",
     "output_type": "stream",
     "text": [
      "Answer(s): 9\n"
     ]
    },
    {
     "name": "stdout",
     "output_type": "stream",
     "text": [
      "\u001b[91mincorrect\u001b[0m. The valid answer(s) are\n",
      "Nine (9)\n",
      "\u001b[96mThere are four amendments to the Constitution about who can vote. Describe one of them.\u001b[0m\n"
     ]
    },
    {
     "name": "stdin",
     "output_type": "stream",
     "text": [
      "Answer(s): eighteen and older\n"
     ]
    },
    {
     "name": "stdout",
     "output_type": "stream",
     "text": [
      "\u001b[91mincorrect\u001b[0m. The valid answer(s) are\n",
      "Citizens eighteen (18) and older (can vote).\n",
      "You don’t have to pay (a poll tax) to vote.\n",
      "Any citizen can vote. (Women and men can vote.)\n",
      "A male citizen of any race (can vote).\n",
      "\u001b[96mName one U.S. territory.\u001b[0m\n"
     ]
    },
    {
     "name": "stdin",
     "output_type": "stream",
     "text": [
      "Answer(s): Puerto Rico\n"
     ]
    },
    {
     "name": "stdout",
     "output_type": "stream",
     "text": [
      "\u001b[92mcorrect\u001b[0m\n",
      "\u001b[96mWe elect a U.S. Senator for how many years?\u001b[0m\n"
     ]
    },
    {
     "name": "stdin",
     "output_type": "stream",
     "text": [
      "Answer(s): 6\n"
     ]
    },
    {
     "name": "stdout",
     "output_type": "stream",
     "text": [
      "\u001b[91mincorrect\u001b[0m. The valid answer(s) are\n",
      "six (6)\n",
      "Elapsed time: 1.3824836413065593 minutes\n"
     ]
    }
   ],
   "source": [
    "duration = sim.start_attempt(sim.questions)"
   ]
  },
  {
   "cell_type": "code",
   "execution_count": null,
   "id": "15176965-da5c-49ed-bb91-87275b01e780",
   "metadata": {},
   "outputs": [],
   "source": []
  }
 ],
 "metadata": {
  "kernelspec": {
   "display_name": "Python 3",
   "language": "python",
   "name": "python3"
  },
  "language_info": {
   "codemirror_mode": {
    "name": "ipython",
    "version": 3
   },
   "file_extension": ".py",
   "mimetype": "text/x-python",
   "name": "python",
   "nbconvert_exporter": "python",
   "pygments_lexer": "ipython3",
   "version": "3.9.1"
  }
 },
 "nbformat": 4,
 "nbformat_minor": 5
}
